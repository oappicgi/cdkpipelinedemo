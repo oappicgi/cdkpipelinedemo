{
 "metadata": {
  "language_info": {
   "codemirror_mode": {
    "name": "ipython",
    "version": 3
   },
   "file_extension": ".py",
   "mimetype": "text/x-python",
   "name": "python",
   "nbconvert_exporter": "python",
   "pygments_lexer": "ipython3",
   "version": 3
  },
  "orig_nbformat": 2
 },
 "nbformat": 4,
 "nbformat_minor": 2,
 "cells": [
  {
   "source": [
    "## This is jupyter notebook for setting up cicd pipeline "
   ],
   "cell_type": "markdown",
   "metadata": {}
  },
  {
   "cell_type": "code",
   "execution_count": null,
   "metadata": {},
   "outputs": [],
   "source": [
    "ApplicationName=   #this will be used as application name variable with in cicd resources\n",
    "devaccountid= # 012345678910\n",
    "prodaccountid= # 012345678910\n",
    "region= #eu-west-1  etc"
   ]
  },
  {
   "cell_type": "code",
   "execution_count": null,
   "metadata": {},
   "outputs": [],
   "source": [
    "!sed -i 's/{appname}/'${ApplicationName}'/g' cdk.json\n",
    "!sed -i 's/{devaccountid}/'${devaccountid}'/g' cdk.json\n",
    "!sed -i 's/{prodaccountid}/'${prodaccountid}'/g' cdk.json\n",
    "!sed -i 's/{region}/'${region}'/g' cdk.json\n",
    "!sed -i 's/{appname}/'${ApplicationName}'/g' package.json\n",
    "\n",
    "!mv /test/appname.test.ts  /test/${ApplicationName}.test.ts\n",
    "!mv /lib/appname-stack.ts /lib/${ApplicationName}-stack.ts\n",
    "!mv /bin/appname.ts  /bin/${ApplicationName}.ts"
   ]
  }
 ]
}